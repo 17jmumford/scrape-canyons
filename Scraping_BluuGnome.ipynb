{
  "nbformat": 4,
  "nbformat_minor": 0,
  "metadata": {
    "colab": {
      "provenance": [],
      "authorship_tag": "ABX9TyPnExkZesaWkMINU3PkKZp3",
      "include_colab_link": true
    },
    "kernelspec": {
      "name": "python3",
      "display_name": "Python 3"
    },
    "language_info": {
      "name": "python"
    }
  },
  "cells": [
    {
      "cell_type": "markdown",
      "metadata": {
        "id": "view-in-github",
        "colab_type": "text"
      },
      "source": [
        "<a href=\"https://colab.research.google.com/github/17jmumford/scrape-canyons/blob/main/Scraping_BluuGnome.ipynb\" target=\"_parent\"><img src=\"https://colab.research.google.com/assets/colab-badge.svg\" alt=\"Open In Colab\"/></a>"
      ]
    },
    {
      "cell_type": "code",
      "execution_count": null,
      "metadata": {
        "id": "nHqwZLgbivnt"
      },
      "outputs": [],
      "source": [
        "import requests\n",
        "from bs4 import BeautifulSoup\n",
        "import re\n",
        "# specify the url\n",
        "url = 'http://www.bluugnome.com/cyn_route/dv/canyon-routes__dv.aspx'\n",
        "\n",
        "# send a request to the website and store the response\n",
        "response = requests.get(url)\n",
        "\n",
        "# parse the response using BeautifulSoup\n",
        "soup = BeautifulSoup(response.text, 'html.parser')\n"
      ]
    },
    {
      "cell_type": "markdown",
      "source": [
        "\n",
        "Attributes:\n",
        "\n",
        "state - string\n",
        "\n",
        "region - string\n",
        "\n",
        "canyon - string\n",
        "\n",
        "route=primary - string\n",
        "\n",
        "time required - double\n",
        "\n",
        "Distance - double\n",
        "\n",
        "number of rappels - int\n",
        "\n",
        "max rappel - int\n",
        "\n",
        "elevation range - int\n",
        "\n",
        "shuttle required - bool\n",
        "\n",
        "vehicle - string\n",
        "\n",
        "permit required - bool\n",
        "\n",
        "notes - string\n"
      ],
      "metadata": {
        "id": "hJw4h4xb3xxn"
      }
    },
    {
      "cell_type": "code",
      "source": [
        "#TODO: scrape all the pages we want to suck into our database from the parent page. \n",
        "#TODO: Should we grab the state and region from the parent page or the individual pages?"
      ],
      "metadata": {
        "id": "6clU28_g1d8N"
      },
      "execution_count": null,
      "outputs": []
    },
    {
      "cell_type": "code",
      "source": [
        "mydivs = soup.find_all(\"div\", {\"class\": \"div_tr-listing\"}) # this grabs all the boxes from the page\n",
        "state = []\n",
        "region = []\n",
        "area = []\n",
        "canyon = []\n",
        "route = []\n",
        "distance = []\n",
        "rappels = []\n",
        "max_rappel = [] # change all of this to a pandas dataframe, which can be converted to a csv and downloaded\n",
        "elevation = []\n",
        "shuttle = []\n",
        "vehicle = []\n",
        "permit = []\n",
        "notes = []\n",
        "for d in mydivs:\n",
        "  try:\n",
        "    # TODO: pull from page\n",
        "    state.append(\"California\")\n",
        "    region.append(\"Death Valley\")\n",
        "    canyon.append(d.find('a').text)\n",
        "    # TODO: successfully pull difficulty rating, split apart into the three sections\n",
        "    h3_element = d.find(\"h3\", class_=\"h_tr-listing\")\n",
        "    text = h3_element.text.strip().split(\" - \")[-1]\n",
        "    print(text)\n",
        "    # WARNING: errors may pop up in this on other pages depending on how consistent it is\n",
        "    distance.append(d.find('strong', string=re.compile(\"Distance(.*)\")).next_sibling)\n",
        "    shuttle.append(d.find('strong', string=re.compile(\"Shuttle(.*)\")).next_sibling)\n",
        "    vehicle.append(d.find('strong', string=re.compile(\"Vehicle(.*)\")).next_sibling)\n",
        "    perm = d.find('strong', string=re.compile(\"Permit(.*)\"))\n",
        "    if perm:\n",
        "      permit.append(perm.next_sibling)\n",
        "    else:\n",
        "      permit.append('no')\n",
        "    elev = d.find('strong', string=re.compile(\"Elevation(.*)\"))\n",
        "    if elev:\n",
        "      elevation.append(elev.next_sibling)\n",
        "    else:\n",
        "      elevation.append('unknown')\n",
        "    rappel_string = d.find('strong', string='Rappels -').next_sibling #splice out numbers, convert to int()\n",
        "    pattern = re.compile(r'(\\d+).*?(\\d+)')\n",
        "    # Find a match with the pattern in the string\n",
        "    match = re.search(pattern, rappel_string)\n",
        "    rappels.append(int(match.group(1)))\n",
        "    max_rappel.append(int(match.group(2)))\n",
        "  except Exception as e:\n",
        "    print(e)\n",
        "    print(d)\n"
      ],
      "metadata": {
        "colab": {
          "base_uri": "https://localhost:8080/"
        },
        "id": "E-vCaImcPyZ1",
        "outputId": "fb116fb7-aff0-497d-d9af-55abb411f193"
      },
      "execution_count": null,
      "outputs": [
        {
          "output_type": "stream",
          "name": "stdout",
          "text": [
            " \r\n",
            "\t\t\t\t\t3B II\n",
            " \r\n",
            "\t\t\t\t\t3A I\n",
            "4 A III\n",
            "3 A III\n",
            "3 A III\n",
            "Cliffs of \r\n",
            "\t\t\t\t\tInsanity Canyon \r\n",
            "\t\t\t\t\t- 4 A III\n",
            "Fire Swamp Canyon \r\n",
            "\t\t\t\t\t- 4A III\n",
            "Humperdinck Canyon \r\n",
            "\t\t\t\t\t- 3 A III\n",
            "Inconceivable Canyon \r\n",
            "\t\t\t\t\t- 4 A III\n",
            "Miracle Max Canyon \r\n",
            "\t\t\t\t\t- 3A III\n",
            "Pit of \r\n",
            "\t\t\t\t\tDespair Canyon \r\n",
            "\t\t\t\t\t- 4A (B) III\n",
            " \r\n",
            "\t\t\t\t\t3A II\n",
            "Abysmal Canyon \r\n",
            "\t\t\t\t\t- 3A III or IV\r\n",
            "\t\t\t\t\tRK\n",
            "Bad Canyon \r\n",
            "\t\t\t\t\t- 3A III\n",
            " \r\n",
            "\t\t\t\t\t3A III or IV\n",
            " \r\n",
            "\t\t\t\t\t3A IV\r\n",
            "\t\t\t\t\tRK\n",
            "South Fork \r\n",
            "\t\t\t\t\t- 3A IV\r\n",
            "\t\t\t\t\tRK\n",
            " \r\n",
            "\t\t\t\t\t4A IV\r\n",
            "\t\t\t\t\tRK\n",
            " \r\n",
            "\t\t\t\t\t4A IV\n",
            " \r\n",
            "\t\t\t\t\t3A IV\n",
            " \r\n",
            "\t\t\t\t\t3A II\n",
            " \r\n",
            "\t\t\t\t\t3A IV (R-upper canyon)\n",
            " \r\n",
            "\t\t\t\t\t3A III or IV\r\n",
            "\t\t\t\t\tRK\n",
            " \r\n",
            "\t\t\t\t\t3A III (IV)\r\n",
            "\t\t\t\t\tRK\n",
            "Foundry Canyon \r\n",
            "\t\t\t\t\tSouth Fork \r\n",
            "\t\t\t\t\t- 3A III\r\n",
            "\t\t\t\t\tRK\n",
            "Hades Canyon \r\n",
            "\t\t\t\t\t- 3A IV\n",
            "Hades Canyon \r\n",
            "\t\t\t\t\tDante's Variation route \r\n",
            "\t\t\t\t\t- 4A IV\r\n",
            "\t\t\t\t\tRK\n",
            "Helios Canyon \r\n",
            "\t\t\t\t\t- 3A I\r\n",
            "\t\t\t\t\tRK\n",
            " \r\n",
            "\t\t\t\t\t3A V\r\n",
            "\t\t\t\t\tRK\n",
            "Kakos Canyon \r\n",
            "\t\t\t\t\t- 3A II\r\n",
            "\t\t\t\t\tRK\n",
            " \r\n",
            "\t\t\t\t\t3A III\r\n",
            "\t\t\t\t\tRK\n",
            " \r\n",
            "\t\t\t\t\t3A IV (length depends on exit)\n",
            " \r\n",
            "\t\t\t\t\t3A III or IV\r\n",
            "\t\t\t\t\tRK\n",
            "Scorpion Canyon \r\n",
            "\t\t\t\t\t- 3A II\n",
            " \r\n",
            "\t\t\t\t\t3A III\r\n",
            "\t\t\t\t\tRK\n",
            " \r\n",
            "\t\t\t\t\t3A III\r\n",
            "\t\t\t\t\tRK\n",
            "Styx Canyon \r\n",
            "\t\t\t\t\t- 3A III\r\n",
            "\t\t\t\t\tRK for the North Fork\n",
            "South Fork \r\n",
            "\t\t\t\t\t- 3A III or IV\r\n",
            "\t\t\t\t\tRK\n",
            "\r\n",
            "\t\t\t\t\tMiddle South Fork \r\n",
            "\t\t\t\t\t- 3A IV\r\n",
            "\t\t\t\t\tRK\n",
            "Vinegaroon Canyon \r\n",
            "\t\t\t\t\t- 3A II\n",
            "Willow Canyon \r\n",
            "\t\t\t\t\t- 3B III\n",
            " \r\n",
            "\t\t\t\t\t3A III\r\n",
            "\t\t\t\t\tRK\n"
          ]
        }
      ]
    },
    {
      "cell_type": "code",
      "source": [
        "print(mydivs[0].find('a').text)"
      ],
      "metadata": {
        "colab": {
          "base_uri": "https://localhost:8080/"
        },
        "id": "WQQRwaygONTB",
        "outputId": "20a0f86b-0dc9-465b-c4c0-75a339acbdf6"
      },
      "execution_count": null,
      "outputs": [
        {
          "output_type": "stream",
          "name": "stdout",
          "text": [
            "\r\n",
            "\t\t\t\t\tDarwin Falls Canyon\n"
          ]
        }
      ]
    },
    {
      "cell_type": "code",
      "source": [
        "h3_element = mydivs[0].find(\"h3\", class_=\"h_tr-listing\")\n",
        "text = h3_element.text.strip().split(\" - \")[-1]\n",
        "print(text)"
      ],
      "metadata": {
        "colab": {
          "base_uri": "https://localhost:8080/"
        },
        "id": "pM4LwfX3OGhc",
        "outputId": "c8db123b-c0ae-489d-8555-e95398a43123"
      },
      "execution_count": null,
      "outputs": [
        {
          "output_type": "stream",
          "name": "stdout",
          "text": [
            " \r\n",
            "\t\t\t\t\t3B II\n"
          ]
        }
      ]
    },
    {
      "cell_type": "code",
      "source": [
        "print(mydivs[0])"
      ],
      "metadata": {
        "id": "gclZ7IpAk2BT",
        "colab": {
          "base_uri": "https://localhost:8080/"
        },
        "outputId": "7a66fd8c-16ba-4e59-a044-bd8e3838a7a5"
      },
      "execution_count": null,
      "outputs": [
        {
          "output_type": "stream",
          "name": "stdout",
          "text": [
            "<div class=\"div_tr-listing\">\n",
            "<h3 class=\"h_tr-listing\">\n",
            "<a href=\"dv_darwin/dv_darwin-canyon.aspx\">\r\n",
            "\t\t\t\t\tDarwin Falls Canyon</a> -  \r\n",
            "\t\t\t\t\t3B II</h3>\n",
            "<h4>Loop Route on foot from Lower Trailhead</h4>\n",
            "<p class=\"p_tr-listing\">\n",
            "<strong>Time Required -</strong> 4 to 6 hours<br/>\n",
            "<strong>Distance -</strong> 3.3 miles Total, 0.4 miles Technical<br/>\n",
            "<strong>Rappels -</strong> 2 Rappels, Longest Rappel 110 feet.<br/>\n",
            "<strong>Elevation Range for loop option on foot -</strong> 3450 - 2500 Feet<br/>\n",
            "<strong>Shuttle Required -</strong> No<strong> Vehicle -</strong> \r\n",
            "\t\t\t\tNone\r\n",
            "\t\t\t\t<strong>Permit Required -</strong> No</p>\n",
            "<h4>Top Down from China Garden using a Shuttle Vehicle.</h4>\n",
            "<p class=\"p_tr-listing\">\n",
            "<strong>Time Required -</strong> 3 to 4.5 hours<br/>\n",
            "<strong>Distance -</strong> 2.1 miles Total, 0.4 miles Technical<br/>\n",
            "<strong>Rappels -</strong> 2 Rappels, Longest Rappel 110 feet.<br/>\n",
            "<strong>Elevation Range for shuttle option -</strong> 3120 - 2500 Feet<br/>\n",
            "<strong>Shuttle Required -</strong> Yes 4.7 Miles<strong> Vehicle -</strong> \r\n",
            "\t\t\t\tHigh Clearance or 4WD depending on road conditions\r\n",
            "\t\t\t\t<strong>Permit Required -</strong> No</p>\n",
            "</div>\n"
          ]
        }
      ]
    },
    {
      "cell_type": "markdown",
      "source": [
        "Use the find() and find_all() methods to locate the specific elements you want to extract. These methods accept a variety of arguments, such as the name of the tag (e.g. 'p' for paragraphs), the class name (if the element has one), and the id (if the element has one).\n",
        "\n",
        "Use the string attribute to extract the text content of an element. This attribute returns the text between the opening and closing tags of the element, without the tags themselves.\n",
        "\n",
        "Use the .contents and .children attributes to navigate the HTML tree and extract information from nested elements. The .contents attribute returns a list of the element's children, while the .children attribute returns an iterator over the element's children.\n",
        "\n",
        "Use the .parent attribute to access the parent of an element. This can be helpful when you want to extract information from the parent element as well as the element itself."
      ],
      "metadata": {
        "id": "jP-oZXJVk4iO"
      }
    },
    {
      "cell_type": "code",
      "source": [
        "#print(soup.prettify())"
      ],
      "metadata": {
        "id": "wTnIGHY_P21D"
      },
      "execution_count": 1,
      "outputs": []
    }
  ]
}