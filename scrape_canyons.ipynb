{
  "nbformat": 4,
  "nbformat_minor": 0,
  "metadata": {
    "colab": {
      "provenance": [],
      "authorship_tag": "ABX9TyPkGYs3+GUu/HwyvastUbDg",
      "include_colab_link": true
    },
    "kernelspec": {
      "name": "python3",
      "display_name": "Python 3"
    },
    "language_info": {
      "name": "python"
    }
  },
  "cells": [
    {
      "cell_type": "markdown",
      "metadata": {
        "id": "view-in-github",
        "colab_type": "text"
      },
      "source": [
        "<a href=\"https://colab.research.google.com/github/17jmumford/scrape-canyons/blob/main/scrape_canyons.ipynb\" target=\"_parent\"><img src=\"https://colab.research.google.com/assets/colab-badge.svg\" alt=\"Open In Colab\"/></a>"
      ]
    },
    {
      "cell_type": "markdown",
      "source": [
        "#Welcome!\n",
        "This is a web scraper designed to collect data from the popular canyoneering website [bluugnome.com](https://www.bluugnome.com). It is currently a work in progress. This was built with assistance from chatGPT.\n",
        "###How to use this file\n",
        "1. Select the 'open in colab' button to open the file in Google Colab. \n",
        "1. Hit the play buttons on all the boxes, in order.\n",
        "1. Click the folder button on the left side.\n",
        "1. You should see 'canyoneering_data.csv' on a list. (hit the folder with a refresh button if it's not popping up right away).\n",
        "1. Hover over the file and three dots should appear. Click on the three dots and select 'download'. \n",
        "\n",
        "Warning: these instructions are for the completed web scraper. Data may have errors. Users should carefully research canyon beta on the source websites and take all precautions before going in a canyon. Canyoneering is dangerous!"
      ],
      "metadata": {
        "id": "w1bFiiI1IAiP"
      }
    },
    {
      "cell_type": "markdown",
      "source": [
        "## Status on Attributes, troubleshooting\n",
        "####LOCATION\n",
        "state, region, canyon name are perfect. Should lack of area be mapped to region, left blank, or maybe just a '-'?\n",
        "\n",
        "####RATING\n",
        "This is currently a mess, by far the most troublesome. Not a surprise, this is the 'hackiest' part. Every possible ERROR variation can be seen, although three across the board is the most common. (ex: see capitol reef)\n",
        "\n",
        "####STATS\n",
        "* permit errors in abysmal canyon are OK.\n",
        "* Escalante, Ticaboo and Robbers Roost(goblin Valley)\n",
        "\n",
        "####Links\n",
        "all good"
      ],
      "metadata": {
        "id": "is2zPcvSWX7x"
      }
    },
    {
      "cell_type": "markdown",
      "source": [
        "### imports"
      ],
      "metadata": {
        "id": "aiHVM3fe6kc2"
      }
    },
    {
      "cell_type": "code",
      "execution_count": 134,
      "metadata": {
        "id": "nHqwZLgbivnt"
      },
      "outputs": [],
      "source": [
        "import requests\n",
        "from bs4 import BeautifulSoup\n",
        "import re\n",
        "import pandas as pd"
      ]
    },
    {
      "cell_type": "markdown",
      "source": [
        "# Site Scraper"
      ],
      "metadata": {
        "id": "8T7fDJ9E6q3V"
      }
    },
    {
      "cell_type": "markdown",
      "source": [
        "###Scraping the parent page for child pages"
      ],
      "metadata": {
        "id": "mlkoFOFjClic"
      }
    },
    {
      "cell_type": "code",
      "source": [
        "parentSoup = BeautifulSoup(requests.get('http://www.bluugnome.com/cyn_route/canyon-area-list.aspx').text, 'html.parser')\n",
        "routes = parentSoup.find(\"div\", attrs={\"id\": \"div_content\"})\n",
        "\n",
        "regionLinks = []\n",
        "regionStart = 'http://www.bluugnome.com/cyn_route/'\n",
        "\n",
        "for link in routes.find_all('a'):\n",
        "  regionLinks.append((regionStart + link.get('href')))\n"
      ],
      "metadata": {
        "id": "3SU5rbfi_9FV"
      },
      "execution_count": 145,
      "outputs": []
    },
    {
      "cell_type": "markdown",
      "source": [
        "###Scraping an individual page"
      ],
      "metadata": {
        "id": "KuT753v4LFHm"
      }
    },
    {
      "cell_type": "code",
      "source": [
        "hrefStart = 'bluugnome.com/cyn_route/dv/'\n",
        "\n",
        "def addRegion(link, data):\n",
        "  print('Current page: ', link)\n",
        "  pageSoup = BeautifulSoup(requests.get(link).text, 'html.parser')\n",
        "  \n",
        "  title = pageSoup.find('h1', {'class' : 'h_general_main_title'}).text.split(':')[1].split(',')\n",
        "  state = title[1].strip().replace('.', '').replace('\\n', ' ').replace('\\r', '').replace('\\t', '')\n",
        "  region = title[0].strip().replace('\\n', ' ').replace('\\r', '').replace('\\t', '')\n",
        "  area = region\n",
        "  canyons = pageSoup.find_all(\"div\", {\"class\": \"div_tr-listing\"})\n",
        "  for canyon in canyons:\n",
        "    data[\"State\"].append(state)\n",
        "    data[\"Region\"].append(region)\n",
        "    data['Canyon'].append(canyon.find('a').text.strip().replace('\\n', ' ').replace('\\r', '').replace('\\t', '')) \n",
        "    data['Link'].append((hrefStart + canyon.find('a').get('href')))\n",
        "    \n",
        "    if canyon.previous_sibling.previous_sibling.name == 'h2':\n",
        "      area = canyon.previous_element.previous_element\n",
        "    data['Area'].append(area)\n",
        "\n",
        "    rating = canyon.find(\"h3\", class_=\"h_tr-listing\").text.split(\"-\")[-1].strip().split('\\n')[0]\n",
        "    appendRating('Difficulty', rating, ['4', '3', '2', '1'])\n",
        "    appendRating('Wetness', rating, ['A', 'B', 'C'])\n",
        "    appendRating('Time', rating, ['IV', 'VI', 'V', 'III', 'II', 'I'])\n",
        "\n",
        "    trails = canyon.find_all(\"p\", {\"class\": \"p_tr-listing\"})\n",
        "    if len(trails) == 0:\n",
        "      trails = canyon.find_all(\"p\", {\"class\": \"p_general\"})\n",
        " \n",
        "    repeat = False\n",
        "    counter = 1\n",
        "    for trail in trails:\n",
        "      if trail.find('strong'):\n",
        "        if len(trails) > 1:\n",
        "          data['Route'].append(('Route #' + str(counter)))\n",
        "        else:\n",
        "          data['Route'].append('Main route')\n",
        "        if counter > 1:\n",
        "          data[\"State\"].append(data[\"State\"][-1])\n",
        "          data[\"Region\"].append(data[\"Region\"][-1])\n",
        "          data[\"Area\"].append(data[\"Area\"][-1])\n",
        "          data[\"Canyon\"].append(data[\"Canyon\"][-1])\n",
        "          data[\"Link\"].append(data['Link'][-1])\n",
        "          data[\"Difficulty\"].append(data[\"Difficulty\"][-1])\n",
        "          data[\"Wetness\"].append(data[\"Wetness\"][-1])\n",
        "          data[\"Time\"].append(data[\"Time\"][-1])\n",
        "\n",
        "        appendSibling('Distance', trail)\n",
        "        appendSibling('Shuttle', trail)\n",
        "        appendSibling('Vehicle', trail)\n",
        "        appendSibling('Permit', trail)\n",
        "        appendSibling('Elevation', trail)\n",
        "\n",
        "        rappel_string = trail.find('strong', string='Rappels -')\n",
        "        if rappel_string:\n",
        "          pattern = re.compile(r'(\\d+).*?(\\d+)')\n",
        "          match = re.search(pattern, rappel_string.next_sibling)\n",
        "          if match:\n",
        "            data['Rappels'].append(int(match.group(1)))      \n",
        "            data['Max Rappel'].append(int(match.group(2)))\n",
        "          else:\n",
        "            data['Rappels'].append(0)\n",
        "            data['Max Rappel'].append(0)\n",
        "        else:\n",
        "          data['Rappels'].append(0)\n",
        "          data['Max Rappel'].append(0)\n",
        "        counter += 1\n",
        "    #troubleshoot(data)\n",
        "\n",
        "\n",
        "def appendSibling(cName, routeInfo):\n",
        "  found = routeInfo.find('strong', string=re.compile(cName + \"(.*)\"))\n",
        "  if found:\n",
        "      data[cName].append(found.next_sibling.strip().replace('\\n', ' ').replace('\\r', '').replace('\\t', ''))\n",
        "  else:\n",
        "    data[cName].append('ERROR')\n",
        "\n",
        "def appendRating(rName, rating, options):\n",
        "  optionMissing = True\n",
        "  for option in options:\n",
        "    if option in rating:\n",
        "      data[rName].append(option)\n",
        "      optionMissing = False\n",
        "      break\n",
        "  if optionMissing:\n",
        "    data[rName].append('ERROR')"
      ],
      "metadata": {
        "id": "E-vCaImcPyZ1"
      },
      "execution_count": 202,
      "outputs": []
    },
    {
      "cell_type": "markdown",
      "source": [
        "### Looping through all the child pages and exporting the data"
      ],
      "metadata": {
        "id": "81RLCiSjFzPq"
      }
    },
    {
      "cell_type": "code",
      "source": [
        "data = {\n",
        "    'State' : [],\n",
        "    'Region' : [],\n",
        "    'Area' : [],\n",
        "    'Canyon' : [],\n",
        "    'Route' : [],\n",
        "    'Difficulty' : [],\n",
        "    'Wetness' : [], \n",
        "    'Time' : [],\n",
        "    'Distance' : [],\n",
        "    'Rappels' : [],\n",
        "    'Max Rappel' : [],\n",
        "    'Elevation' : [],\n",
        "    'Shuttle' : [],\n",
        "    'Vehicle' : [],\n",
        "    'Permit' : [],\n",
        "    'Link' : []\n",
        "}\n",
        "counter = 0\n",
        "for regionLink in regionLinks:\n",
        "  addRegion(regionLink, data)\n",
        "  if counter == 17: \n",
        "    break\n",
        "  counter += 1\n",
        "#addRegion('http://www.bluugnome.com/cyn_route/valley-of-fire/canyon-routes__valley-of-fire.aspx', data)\n",
        "df = pd.DataFrame(data)\n",
        "df.to_csv(r'canyon_data.csv', index=False)\n"
      ],
      "metadata": {
        "id": "vdnqFhmIFjhc",
        "colab": {
          "base_uri": "https://localhost:8080/"
        },
        "outputId": "92c8cf0a-6f4a-43ed-a582-f09b0d907608"
      },
      "execution_count": 206,
      "outputs": [
        {
          "output_type": "stream",
          "name": "stdout",
          "text": [
            "Current page:  http://www.bluugnome.com/cyn_route/coconino-nat-frst/canyon-routes__coconino-nat-frst.aspx\n",
            "Current page:  http://www.bluugnome.com/cyn_route/vr-gorge/canyon-routes__vr-gorge.aspx\n",
            "Current page:  http://www.bluugnome.com/cyn_route/dv/canyon-routes__dv.aspx\n",
            "Current page:  http://www.bluugnome.com/cyn_route/red-rock_nv/canyon-routes__red-rock_nv.aspx\n",
            "Current page:  http://www.bluugnome.com/cyn_route/charleston_nv/canyon-routes__charleston_nv.aspx\n",
            "Current page:  http://www.bluugnome.com/cyn_route/lake-mead/canyon-routes__lake-mead.aspx\n",
            "Current page:  http://www.bluugnome.com/cyn_route/stateline-hills_nv/canyon-routes__stateline-hills_nv.aspx\n",
            "Current page:  http://www.bluugnome.com/cyn_route/valley-of-fire/canyon-routes__valley-of-fire.aspx\n",
            "Current page:  http://www.bluugnome.com/cyn_route/cap-reef/canyon-routes__cap-reef.aspx\n",
            "Current page:  http://www.bluugnome.com/cyn_route/cedar-mesa/canyon-routes__cedar-mesa.aspx\n",
            "Current page:  http://www.bluugnome.com/cyn_route/dirty-devil/canyon-routes__dirty-devil.aspx\n",
            "Current page:  http://www.bluugnome.com/cyn_route/dixie-nat-frst-pine-vly/canyon-routes__dixie-nat-frst-pine-vly_uth.aspx\n",
            "Current page:  http://www.bluugnome.com/cyn_route/dixie-nat-frst-cedar-cty/canyon-routes__dixie-nat-frst-cedar-cty.aspx\n",
            "Current page:  http://www.bluugnome.com/cyn_route/escalante/canyon-routes__escalante.aspx\n",
            "Current page:  http://www.bluugnome.com/cyn_route/goblin-vly/canyon-routes__goblin-vly.aspx\n",
            "Current page:  http://www.bluugnome.com/cyn_route/halls-creek/canyon-routes__halls-creek.aspx\n",
            "Current page:  http://www.bluugnome.com/cyn_route/north-wash/canyon-routes__north-wash.aspx\n",
            "Current page:  http://www.bluugnome.com/cyn_route/poison-springs/canyon-routes__poison-srpings.aspx\n"
          ]
        }
      ]
    },
    {
      "cell_type": "code",
      "source": [
        "#troubleshooting code\n",
        "def troubleshoot(data):\n",
        "  print(len(data['State']))\n",
        "  print(len(data['Region']))\n",
        "  print(len(data['Area']))\n",
        "  print(len(data['Canyon']))\n",
        "  print(len(data['Route']))\n",
        "  print(len(data['Difficulty']))\n",
        "  print(len(data['Wetness' ]))\n",
        "  print(len(data['Time']))\n",
        "  print(len(data['Distance']))\n",
        "  print(len(data['Rappels']))\n",
        "  print(len(data['Max Rappel']))\n",
        "  print(len(data['Elevation']))\n",
        "  print(len(data['Shuttle']))\n",
        "  print(len(data['Vehicle']))\n",
        "  print(len(data['Permit']))\n",
        "  print(len(data['Link']))"
      ],
      "metadata": {
        "id": "F7aKWJCtRdVg"
      },
      "execution_count": 159,
      "outputs": []
    },
    {
      "cell_type": "markdown",
      "source": [
        "#Experimentation block\n",
        "(delete before final version)"
      ],
      "metadata": {
        "id": "s3c-aIaO6SNZ"
      }
    },
    {
      "cell_type": "code",
      "source": [
        "'''\n",
        "<h1 class=\"h_general_main_title\">\n",
        "       Canyoneering Route Description List:\n",
        "       <br/>\n",
        "       Coconino National Forest, Arizona.\n",
        "      </h1>\n",
        "'''\n",
        "title = experimentSoup.find('h1', {'class' : 'h_general_main_title'}).text.split(':')[1].split(',')\n",
        "\n",
        "print(title[1].strip().replace('.', ''))\n",
        "print(title[0].strip())"
      ],
      "metadata": {
        "id": "gclZ7IpAk2BT",
        "colab": {
          "base_uri": "https://localhost:8080/"
        },
        "outputId": "d00cfb85-d223-4fc5-d491-52ec17ee8d4a"
      },
      "execution_count": 133,
      "outputs": [
        {
          "output_type": "stream",
          "name": "stdout",
          "text": [
            "Arizona\n",
            "Coconino National Forest\n"
          ]
        }
      ]
    },
    {
      "cell_type": "markdown",
      "source": [
        "#Using beautiful Soup\n",
        "\n",
        "Basic info on beautiful soup for those wishing to build something similar. (points by chatGPT)\n",
        "\n",
        "* Use the find() and find_all() methods to locate the specific elements you want to extract. These methods accept a variety of arguments, such as the name of the tag (e.g. 'p' for paragraphs), the class name (if the element has one), and the id (if the element has one).\n",
        "\n",
        "* Use the string attribute to extract the text content of an element. This attribute returns the text between the opening and closing tags of the element, without the tags themselves.\n",
        "\n",
        "* Use the .contents and .children attributes to navigate the HTML tree and extract information from nested elements. The .contents attribute returns a list of the element's children, while the .children attribute returns an iterator over the element's children.\n",
        "\n",
        "* Use the .parent attribute to access the parent of an element. This can be helpful when you want to extract information from the parent element as well as the element itself."
      ],
      "metadata": {
        "id": "jP-oZXJVk4iO"
      }
    },
    {
      "cell_type": "markdown",
      "source": [
        "#Webpage\n",
        "(delete before final version)"
      ],
      "metadata": {
        "id": "VatHl_XL6vU8"
      }
    },
    {
      "cell_type": "code",
      "source": [
        "expLink = 'http://www.bluugnome.com/cyn_route/valley-of-fire/canyon-routes__valley-of-fire.aspx'\n",
        "experimentSoup = BeautifulSoup(requests.get(expLink).text, 'html.parser')\n",
        "print(experimentSoup.prettify())"
      ],
      "metadata": {
        "colab": {
          "base_uri": "https://localhost:8080/"
        },
        "id": "wTnIGHY_P21D",
        "outputId": "b0e04815-9229-4f05-90a4-5fd4bd1590c3"
      },
      "execution_count": 184,
      "outputs": [
        {
          "output_type": "stream",
          "name": "stdout",
          "text": [
            "<!DOCTYPE html>\n",
            "<html dir=\"ltr\">\n",
            " <head>\n",
            "  <!--\r\n",
            "DO NOT ADD, REMOVE OR MODIFY THE ID NAMES OF ANY ContentPlaceHolders.\r\n",
            "Doing so will mess up all attached pages until it is put back the way it was.\r\n",
            "DO NOT ADD, REMOVE OR MODIFY THE ID NAMES OF ANY ContentPlaceHolders.\r\n",
            "DO NOT ADD, REMOVE OR MODIFY THE ID NAMES OF ANY ContentPlaceHolders.\r\n",
            "\r\n",
            "This page has two placeholders  (one in the head and one in the body) and allows full control over that area by any content page created from this master page.\r\n",
            "If more editable regions are desired then you are creating a specialized page.  \r\n",
            "For that you should create another child master page like the one created for the Canyoneering Trip Reports Pages (bluugnome_canyoneer-tr.master\r\n",
            "-->\n",
            "  <!-- The following link code sets the icon used when my page is added to someone's favorites folder\r\n",
            "When they add my page to thier favorites folder, they will see the icon listed here \r\n",
            "in thier favorites list instead of the standard explorer icon.\r\n",
            "-->\n",
            "  <link href=\"/images/icons_markers/icon1_Gnome_16x16.ico\" rel=\"SHORTCUT ICON\"/>\n",
            "  <!-- The following links point to various java script files that may be implented -->\n",
            "  <script src=\"/scripts/main.js\" type=\"text/javascript\">\n",
            "  </script>\n",
            "  <script src=\"/script_gps-visualizer.js\" type=\"text/javascript\">\n",
            "  </script>\n",
            "  <script src=\"/testing_java_script.js\" type=\"text/javascript\">\n",
            "  </script>\n",
            "  <!-- The following link points to the css file -->\n",
            "  <link href=\"/css_main.css\" rel=\"stylesheet\" type=\"text/css\"/>\n",
            "  <meta charset=\"utf-8\"/>\n",
            "  <title>\n",
            "   BluuGnome.com - Canyoneering Route Descriptions for Valley of Fire State Park, Nevada.\n",
            "  </title>\n",
            "  <!-- This content holder contains editable portions of head for pages associated with this master page. -->\n",
            "  <title>\n",
            "   BluuGnome.com -\n",
            "  </title>\n",
            "  <script type=\"text/javascript\">\n",
            "  </script>\n",
            " </head>\n",
            " <body id=\"Body\" style=\"margin:0px\">\n",
            "  <form action=\"./canyon-routes__valley-of-fire.aspx\" id=\"form1\" method=\"post\">\n",
            "   <input id=\"__VIEWSTATE\" name=\"__VIEWSTATE\" type=\"hidden\" value=\"/wEPDwULLTEwMDUyNjYzMjhkZHdsNJMm+zOFZab5pSK3qqcGZGM3ZCsJ2RduB4dRMCUc\"/>\n",
            "   <input id=\"__VIEWSTATEGENERATOR\" name=\"__VIEWSTATEGENERATOR\" type=\"hidden\" value=\"077C71C9\"/>\n",
            "   <div id=\"div_wrap-all\">\n",
            "    <div id=\"div-top-add\">\n",
            "     <!-- Code generated from google for the Ad Unit - BG-top-ad  -->\n",
            "     <script type=\"text/javascript\">\n",
            "      <!--\r\n",
            "google_ad_client = \"ca-pub-8720035964420132\";\r\n",
            "/* BG-top-ad */\r\n",
            "google_ad_slot = \"8265468325\";\r\n",
            "google_ad_width = 728;\r\n",
            "google_ad_height = 90;\r\n",
            "//-->\n",
            "     </script>\n",
            "     <script src=\"http://pagead2.googlesyndication.com/pagead/show_ads.js\" type=\"text/javascript\">\n",
            "     </script>\n",
            "     <!-- End code generated from Google for the Ad Unit - BG top ad -->\n",
            "    </div>\n",
            "    <!-- END div-top-add  -->\n",
            "    <div id=\"div_banner\">\n",
            "     <!--  Div for the banner that contains the BluuGnome Logo and nav menu(s)-->\n",
            "     <div id=\"div_bar-above-logo\">\n",
            "      <div id=\"div-nav-top-bar\">\n",
            "       <ul id=\"ul-nav-top-bar\">\n",
            "       </ul>\n",
            "      </div>\n",
            "      <!--  END div-nav-top-bar -->\n",
            "     </div>\n",
            "     <!--  End div_bar-above-logo -->\n",
            "     <div id=\"div_logo\">\n",
            "      <a href=\"/default.aspx\">\n",
            "       <img alt=\"BluuGnome.com Text Logo\" id=\"img_bg_header_logo\" src=\"/master-pages/master-page-images/BG-Simplified-Logo.png\"/>\n",
            "       <img alt=\"GnomeCharacter\" id=\"img_bg_header_link-contact\" src=\"/master-pages/master-page-images/BG-Simplified-Gnome.png\"/>\n",
            "      </a>\n",
            "      <br/>\n",
            "     </div>\n",
            "     <!--  End div_logo div -->\n",
            "     <div id=\"div_bar-below-logo\">\n",
            "      <div id=\"div-nav-bot-bar\">\n",
            "       <ul id=\"ul-nav-bot-bar\">\n",
            "        <li>\n",
            "         <a href=\"/cyn_route/canyon-area-list.aspx\">\n",
            "          Routes\n",
            "         </a>\n",
            "        </li>\n",
            "        <li>\n",
            "         <a href=\"http://www.bg-gear.com/\" target=\"_blank\">\n",
            "          Store\n",
            "         </a>\n",
            "        </li>\n",
            "        <li>\n",
            "         <a href=\"/canyoneer_emerg-contact.aspx\">\n",
            "          Emergency Contacts\n",
            "         </a>\n",
            "        </li>\n",
            "        <li>\n",
            "         <a href=\"/contact.aspx\">\n",
            "          Contact\n",
            "         </a>\n",
            "        </li>\n",
            "        <li class=\"li-nav-sub\">\n",
            "         Misc.\n",
            "         <ul>\n",
            "          <li>\n",
            "           <a href=\"../cyn_glossary/canyoneer_glossary.aspx\">\n",
            "            Glossary and Other Info\n",
            "           </a>\n",
            "          </li>\n",
            "          <li>\n",
            "           <a href=\"/canyoneer_warnings-disclaimers.aspx\">\n",
            "            Warnings / Disclaimers\n",
            "           </a>\n",
            "          </li>\n",
            "          <li>\n",
            "           <a href=\"/canyoneer.aspx\">\n",
            "            What's Canyoneering\n",
            "           </a>\n",
            "          </li>\n",
            "          <li>\n",
            "           <a href=\"/cyn_how-to/get-started/get-started.aspx\">\n",
            "            Getting Started\n",
            "           </a>\n",
            "          </li>\n",
            "          <li>\n",
            "           <a href=\"/external-links.aspx\">\n",
            "            External Links\n",
            "           </a>\n",
            "          </li>\n",
            "          <li>\n",
            "           <a href=\"/cyn_how-to/how-to.aspx\">\n",
            "            How To\n",
            "           </a>\n",
            "          </li>\n",
            "         </ul>\n",
            "        </li>\n",
            "       </ul>\n",
            "      </div>\n",
            "      <!--  END div-nav-bot-bar -->\n",
            "     </div>\n",
            "     <!--  End bar-below-logo -->\n",
            "    </div>\n",
            "    <!--  End of banner div -->\n",
            "    <div id=\"div_content-outer-wrap\">\n",
            "     <div id=\"div_content-inner-wrap\">\n",
            "      <!--\r\n",
            "The ID of this controll should not be changed.  \r\n",
            "It needs to be the same as the ID of the Content Control on the Child Master pages associtaed with this master page.\r\n",
            "If this ID is changed the otehr ID's need to be changed to match or the pages will break.\r\n",
            "For now the only child master of this Master Page is bluugnome_canyoneer-tr.master\r\n",
            "-->\n",
            "      <!-- \r\n",
            "This content holder contains editable portions for pages associated with this master page. \r\n",
            "-->\n",
            "      <h1 class=\"h_general_main_title\">\n",
            "       Canyoneering Route Description List:\n",
            "       <br/>\n",
            "       Valley of Fire State Park, Nevada.\n",
            "      </h1>\n",
            "      <img alt=\"Gnome-Basic.\" longdesc=\"../../Gnome-Basic.\" src=\"../../images/icons_markers/page-mascots/Gnome-Basic_100X168px_FaceRight.png\" style=\"float: left\"/>\n",
            "      <div class=\"div_tr-listing-region_info\">\n",
            "       <h4 class=\"h_tr-listing-region_info\">\n",
            "        Weather Forecast - \r\n",
            "\t\t\t\t\tValley Of Fire State Park\n",
            "       </h4>\n",
            "       <p class=\"p_tr-listing-region_info\">\n",
            "        <a href=\"http://forecast.weather.gov/MapClick.php?lat=36.43108914871946&amp;lon=-114.51650619506836\" target=\"_blank\">\n",
            "         National Weather Service\n",
            "        </a>\n",
            "        <a href=\"http://www.weather.com/weather/right-now/Valley+of+Fire+State+Park+NV+NVSPVF:13\" target=\"_blank\">\n",
            "         Weather.com\n",
            "        </a>\n",
            "        <a href=\"http://www.wunderground.com/US/NV/Overton.html\" target=\"_blank\">\n",
            "         Wunderground.com\n",
            "        </a>\n",
            "       </p>\n",
            "       <p class=\"p_tr-listing-region_info\">\n",
            "        <a href=\"http://www.math.utah.edu/~sfolias/\" target=\"_blank\">\n",
            "         Stefan's Canyoneering Links\n",
            "        </a>\n",
            "       </p>\n",
            "       <h4 class=\"h_tr-listing-region_info\">\n",
            "        Area Contact Info\n",
            "       </h4>\n",
            "       <p class=\"p_tr-listing-region_info\">\n",
            "        Valley of Fire State Park Visitor Center  \r\n",
            "\t\t\t\t\t\t\t\t\t(702) 397-2088\n",
            "       </p>\n",
            "       <p class=\"p_tr-listing-region_info\">\n",
            "        <a href=\"http://parks.nv.gov/parks/valley-of-fire-state-park/\" target=\"_blank\">\n",
            "         Valley of Fire State Park\n",
            "        </a>\n",
            "       </p>\n",
            "      </div>\n",
            "      <div class=\"div_tr-listing\">\n",
            "       <h3 class=\"h_tr-listing\">\n",
            "        <a href=\"valley-of-fire_fire-canyon/valley-of-fire_fire-canyon.aspx\">\n",
            "         Fire Canyon\n",
            "        </a>\n",
            "        - Valley of Fire State Park, Nevada.  2A I\n",
            "       </h3>\n",
            "       <p class=\"p_tr-listing\">\n",
            "        <strong>\n",
            "         Time Required\n",
            "        </strong>\n",
            "        - 3 to 4 hours\n",
            "        <br/>\n",
            "        <strong>\n",
            "         Distance -\n",
            "        </strong>\n",
            "        4.8 miles Total, 1.7 miles Technical\n",
            "        <br/>\n",
            "        <strong>\n",
            "         Rappels -\n",
            "        </strong>\n",
            "        0 Rappels, Longest Rappel N/A feet.\n",
            "        <br/>\n",
            "        No rappels but a couple spots of scrambling where some people \r\n",
            "\t\t\t\t\tmay desire a handline for assistance.\n",
            "        <br/>\n",
            "        <strong>\n",
            "         Elevation Range -\n",
            "        </strong>\n",
            "        2070 - 1690 Feet\n",
            "        <br/>\n",
            "        <strong>\n",
            "         Shuttle Required -\n",
            "        </strong>\n",
            "        Yes 3.9 Miles\n",
            "        <strong>\n",
            "         Vehicle -\n",
            "        </strong>\n",
            "        Passenger\n",
            "        <strong>\n",
            "         Permit Required -\n",
            "        </strong>\n",
            "        No\n",
            "       </p>\n",
            "      </div>\n",
            "      <div id=\"div_content-footer\">\n",
            "       <hr style=\"clear:both\"/>\n",
            "       <p>\n",
            "        Content is protected by copyright and may not be distributed without permission from BluuGnome.com.\n",
            "       </p>\n",
            "      </div>\n",
            "      <!--  End of content footer div -->\n",
            "     </div>\n",
            "     <!-- End of div_contnet-inner-wrap -->\n",
            "    </div>\n",
            "    <!--  End of div_contnet-outer-wrap -->\n",
            "    <div id=\"div-bot-add\">\n",
            "     <!-- Code generated from google for the Ad Unit - BG-bot-ad  -->\n",
            "     <script type=\"text/javascript\">\n",
            "      <!--\r\n",
            "google_ad_client = \"ca-pub-8720035964420132\";\r\n",
            "/* BG-bot-ad */\r\n",
            "google_ad_slot = \"9530359897\";\r\n",
            "google_ad_width = 728;\r\n",
            "google_ad_height = 90;\r\n",
            "//-->\n",
            "     </script>\n",
            "     <script src=\"http://pagead2.googlesyndication.com/pagead/show_ads.js\" type=\"text/javascript\">\n",
            "     </script>\n",
            "    </div>\n",
            "    <!-- END div-bot-add  -->\n",
            "   </div>\n",
            "   <!-- END of div - wrap-all -->\n",
            "  </form>\n",
            "  <div id=\"stat-counter-dotcom\">\n",
            "   <!-- Start of StatCounter Code -->\n",
            "   <script type=\"text/javascript\">\n",
            "    var sc_project=4415741; \r\n",
            "\t\tvar sc_invisible=0; \r\n",
            "\t\tvar sc_partition=55; \r\n",
            "\t\tvar sc_click_stat=1; \r\n",
            "\t\tvar sc_security=\"4baeedf0\";\n",
            "   </script>\n",
            "   <script src=\"../counter_xhtml.js\" type=\"text/javascript\">\n",
            "   </script>\n",
            "   <noscript>\n",
            "    <div class=\"statcounter\">\n",
            "     <a class=\"statcounter\" href=\"http://www.statcounter.com/\" title=\"web statistics\">\n",
            "      <img alt=\"web statistics\" class=\"statcounter\" src=\"http://c.statcounter.com/4415741/0/4baeedf0/0/\"/>\n",
            "     </a>\n",
            "    </div>\n",
            "   </noscript>\n",
            "   <!-- End of StatCounter Code -->\n",
            "  </div>\n",
            " </body>\n",
            "</html>\n",
            "\n"
          ]
        }
      ]
    }
  ]
}